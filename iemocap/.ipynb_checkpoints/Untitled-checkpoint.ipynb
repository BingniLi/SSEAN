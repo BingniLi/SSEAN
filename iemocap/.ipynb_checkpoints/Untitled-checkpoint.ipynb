{
 "cells": [
  {
   "cell_type": "code",
   "execution_count": 16,
   "id": "338fbb4d-0798-4bf1-811b-86891f1cc188",
   "metadata": {},
   "outputs": [
    {
     "name": "stdout",
     "output_type": "stream",
     "text": [
      "['M', 'F', 'F', 'M', 'F', 'F', 'F', 'F', 'F', 'M', 'F', 'F', 'F', 'F', 'F', 'F', 'F', 'M', 'F', 'M', 'M', 'F', 'F', 'F', 'F', 'M', 'F', 'F', 'F', 'F', 'M', 'F', 'F', 'F', 'F', 'M', 'F', 'F', 'M', 'F', 'F', 'M', 'M', 'F', 'M', 'F', 'M', 'F', 'M', 'F', 'F', 'M', 'M']\n",
      "[2, 1, 1, 2, 1, 1, 1, 1, 1, 1, 1, 1, 1, 1, 1, 1, 1, 2, 1, 1, 1, 1, 1, 1, 1, 1, 1, 1, 1, 1, 1, 1, 1, 1, 1, 1, 1, 1, 1, 1, 1, 1, 1, 1, 1, 1, 1, 1, 1, 1, 1, 1, 1]\n",
      "Number of dialogues: 1 [\"M says to F: We're all going to miss him. F answers: Mmm hmm. I never knew it was going to be this hard, you know.\", 'M is to others and and yes and in response. M is seen as to others and and kisses and in sadness. M will to everyone and and no and in the end.', 'F will feel to me and and says and in reply. F will to F. and and yes and in reply.', 'Mmm hmm. I never knew it was going to be this hard, you know.']\n"
     ]
    }
   ],
   "source": [
    "import pickle\n",
    "\n",
    "# Open the pickle file in read-binary mode and load the data\n",
    "with open('iemocap_kb_roberta.pkl', 'rb') as file:\n",
    "    speakers, labels, new_dialogues, train_ids, test_ids, valid_ids = pickle.load(file, encoding='latin1')\n",
    "\n",
    "# Example: Print the loaded data to verify successful loading\n",
    "print(speakers[train_ids[0]])\n",
    "print(labels[train_ids[0]])\n",
    "print(\"Number of dialogues:\", len(new_dialogues),new_dialogues[0][3])\n",
    "\n",
    "\n"
   ]
  },
  {
   "cell_type": "code",
   "execution_count": null,
   "id": "c0a240b0-ac68-4809-b315-67afee5b09e6",
   "metadata": {},
   "outputs": [],
   "source": []
  }
 ],
 "metadata": {
  "kernelspec": {
   "display_name": "Python 3 (ipykernel)",
   "language": "python",
   "name": "python3"
  },
  "language_info": {
   "codemirror_mode": {
    "name": "ipython",
    "version": 3
   },
   "file_extension": ".py",
   "mimetype": "text/x-python",
   "name": "python",
   "nbconvert_exporter": "python",
   "pygments_lexer": "ipython3",
   "version": "3.8.10"
  }
 },
 "nbformat": 4,
 "nbformat_minor": 5
}
