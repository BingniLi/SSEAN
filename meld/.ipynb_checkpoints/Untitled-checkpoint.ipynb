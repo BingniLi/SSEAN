{
 "cells": [
  {
   "cell_type": "code",
   "execution_count": null,
   "id": "4ec0121f-54ea-49e2-a5f3-dfaa435ca0e4",
   "metadata": {},
   "outputs": [],
   "source": [
    "import pickle\n",
    "\n",
    "with open('meld_kb_roberta.pkl', 'rb') as file:\n",
    "    speakers, emotion_labels, sentiment_labels, new_dialogues, train_ids, test_ids, valid_ids = pickle.load(file, encoding='latin1')\n",
    "    \n",
    "    \n",
    "print(speakers[train_ids[0]])\n",
    "print(emotion_labels[train_ids[0]])\n",
    "print(\"Number of dialogues:\", len(new_dialogues),new_dialogues[0][3])"
   ]
  }
 ],
 "metadata": {
  "kernelspec": {
   "display_name": "",
   "name": ""
  },
  "language_info": {
   "name": ""
  }
 },
 "nbformat": 4,
 "nbformat_minor": 5
}
